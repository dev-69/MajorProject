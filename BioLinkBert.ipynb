{
  "metadata": {
    "kernelspec": {
      "name": "python3",
      "display_name": "Python 3",
      "language": "python"
    },
    "language_info": {
      "name": "python",
      "version": "3.10.12",
      "mimetype": "text/x-python",
      "codemirror_mode": {
        "name": "ipython",
        "version": 3
      },
      "pygments_lexer": "ipython3",
      "nbconvert_exporter": "python",
      "file_extension": ".py"
    },
    "colab": {
      "provenance": [],
      "name": "BioLinkBert",
      "include_colab_link": true
    },
    "kaggle": {
      "accelerator": "gpu",
      "dataSources": [
        {
          "sourceId": 10830745,
          "sourceType": "datasetVersion",
          "datasetId": 6725359
        }
      ],
      "dockerImageVersionId": 30918,
      "isInternetEnabled": true,
      "language": "python",
      "sourceType": "notebook",
      "isGpuEnabled": true
    }
  },
  "nbformat_minor": 0,
  "nbformat": 4,
  "cells": [
    {
      "cell_type": "markdown",
      "metadata": {
        "id": "view-in-github",
        "colab_type": "text"
      },
      "source": [
        "<a href=\"https://colab.research.google.com/github/dev-69/MajorProject/blob/main/BioLinkBert.ipynb\" target=\"_parent\"><img src=\"https://colab.research.google.com/assets/colab-badge.svg\" alt=\"Open In Colab\"/></a>"
      ]
    },
    {
      "source": [
        "# IMPORTANT: SOME KAGGLE DATA SOURCES ARE PRIVATE\n",
        "# RUN THIS CELL IN ORDER TO IMPORT YOUR KAGGLE DATA SOURCES.\n",
        "import kagglehub\n",
        "kagglehub.login()\n"
      ],
      "metadata": {
        "id": "wn5X3yZxdWg9"
      },
      "cell_type": "code",
      "outputs": [],
      "execution_count": null
    },
    {
      "source": [
        "# IMPORTANT: RUN THIS CELL IN ORDER TO IMPORT YOUR KAGGLE DATA SOURCES,\n",
        "# THEN FEEL FREE TO DELETE THIS CELL.\n",
        "# NOTE: THIS NOTEBOOK ENVIRONMENT DIFFERS FROM KAGGLE'S PYTHON\n",
        "# ENVIRONMENT SO THERE MAY BE MISSING LIBRARIES USED BY YOUR\n",
        "# NOTEBOOK.\n",
        "\n",
        "devsonar_prprpe_path = kagglehub.dataset_download('devsonar/prprpe')\n",
        "\n",
        "print('Data source import complete.')\n"
      ],
      "metadata": {
        "id": "1YB7DfGxdWhA"
      },
      "cell_type": "code",
      "outputs": [],
      "execution_count": null
    },
    {
      "cell_type": "code",
      "source": [
        "print(\"Hello BioLinkBert\")"
      ],
      "metadata": {
        "id": "nt07tw7dW-mL",
        "trusted": true,
        "execution": {
          "iopub.status.busy": "2025-02-24T06:57:31.661661Z",
          "iopub.execute_input": "2025-02-24T06:57:31.662022Z",
          "iopub.status.idle": "2025-02-24T06:57:31.666466Z",
          "shell.execute_reply.started": "2025-02-24T06:57:31.661992Z",
          "shell.execute_reply": "2025-02-24T06:57:31.665791Z"
        },
        "outputId": "92fbbfda-88f4-401c-a139-a2c0c3db5f24"
      },
      "outputs": [
        {
          "name": "stdout",
          "text": "Hello BioLinkBert\n",
          "output_type": "stream"
        }
      ],
      "execution_count": null
    },
    {
      "cell_type": "code",
      "source": [
        "import torch\n",
        "import torch.nn as nn\n",
        "from transformers import AutoTokenizer, AutoModel\n",
        "from torch.utils.data import Dataset, DataLoader\n",
        "import numpy as np\n",
        "from sklearn.metrics import accuracy_score, classification_report\n",
        "from sklearn.model_selection import train_test_split"
      ],
      "metadata": {
        "trusted": true,
        "execution": {
          "iopub.status.busy": "2025-02-24T06:57:31.675576Z",
          "iopub.execute_input": "2025-02-24T06:57:31.675801Z",
          "iopub.status.idle": "2025-02-24T06:57:39.596573Z",
          "shell.execute_reply.started": "2025-02-24T06:57:31.675783Z",
          "shell.execute_reply": "2025-02-24T06:57:39.595707Z"
        },
        "id": "BEC9pdKSdWhF"
      },
      "outputs": [],
      "execution_count": null
    },
    {
      "cell_type": "code",
      "source": [
        "class DischargeNotesDataset(Dataset):\n",
        "    def __init__(self, texts, labels, tokenizer, max_length=512):\n",
        "        self.texts = texts\n",
        "        self.labels = labels\n",
        "        self.tokenizer = tokenizer\n",
        "        self.max_length = max_length\n",
        "\n",
        "    def __len__(self):\n",
        "        return len(self.texts)\n",
        "\n",
        "    def __getitem__(self, idx):\n",
        "        text = str(self.texts[idx])\n",
        "        label = self.labels[idx]\n",
        "\n",
        "        if text is None or label is None:\n",
        "            print(f\"Invalid data at index {idx}: {text}, {label}\")\n",
        "\n",
        "        encoding = self.tokenizer(\n",
        "            text,\n",
        "            add_special_tokens=True,\n",
        "            max_length=self.max_length,\n",
        "            padding='max_length',\n",
        "            truncation=True,\n",
        "            return_tensors='pt'\n",
        "        )\n",
        "\n",
        "        return {\n",
        "        'input_ids': encoding['input_ids'].flatten(),\n",
        "        'attention_mask': encoding['attention_mask'].flatten(),\n",
        "        'label': torch.tensor(label, dtype=torch.long)\n",
        "        }\n"
      ],
      "metadata": {
        "trusted": true,
        "execution": {
          "iopub.status.busy": "2025-02-24T06:57:39.597865Z",
          "iopub.execute_input": "2025-02-24T06:57:39.598321Z",
          "iopub.status.idle": "2025-02-24T06:57:39.603707Z",
          "shell.execute_reply.started": "2025-02-24T06:57:39.598289Z",
          "shell.execute_reply": "2025-02-24T06:57:39.602993Z"
        },
        "id": "GoaMoe61dWhG"
      },
      "outputs": [],
      "execution_count": null
    },
    {
      "cell_type": "code",
      "source": [
        "class ReadmissionPredictor(nn.Module):\n",
        "    def __init__(self, bert_model):\n",
        "        super(ReadmissionPredictor, self).__init__()\n",
        "        self.bert = bert_model\n",
        "        self.dropout = nn.Dropout(0.1)\n",
        "        self.classifier = nn.Linear(self.bert.config.hidden_size, 2)\n",
        "\n",
        "    def forward(self, input_ids, attention_mask):\n",
        "        outputs = self.bert(input_ids=input_ids, attention_mask=attention_mask)\n",
        "        pooled_output = outputs.last_hidden_state[:, 0, :]  # Use [CLS] token\n",
        "        pooled_output = self.dropout(pooled_output)\n",
        "        logits = self.classifier(pooled_output)\n",
        "        return logits"
      ],
      "metadata": {
        "trusted": true,
        "execution": {
          "iopub.status.busy": "2025-02-24T06:57:39.605312Z",
          "iopub.execute_input": "2025-02-24T06:57:39.605652Z",
          "iopub.status.idle": "2025-02-24T06:57:39.642192Z",
          "shell.execute_reply.started": "2025-02-24T06:57:39.605618Z",
          "shell.execute_reply": "2025-02-24T06:57:39.641507Z"
        },
        "id": "P6u1u3XsdWhI"
      },
      "outputs": [],
      "execution_count": null
    },
    {
      "cell_type": "code",
      "source": [
        "import seaborn as sns\n",
        "import matplotlib.pyplot as plt\n",
        "def plot_confusion_matrix(y_true, y_pred):\n",
        "    cm = confusion_matrix(y_true, y_pred)\n",
        "    plt.figure(figsize=(8, 6))\n",
        "    sns.heatmap(cm, annot=True, fmt='d', cmap='Blues')\n",
        "    plt.title('Confusion Matrix')\n",
        "    plt.ylabel('True Label')\n",
        "    plt.xlabel('Predicted Label')\n",
        "    plt.show()"
      ],
      "metadata": {
        "trusted": true,
        "execution": {
          "iopub.status.busy": "2025-02-24T06:57:39.643485Z",
          "iopub.execute_input": "2025-02-24T06:57:39.64377Z",
          "iopub.status.idle": "2025-02-24T06:57:40.102717Z",
          "shell.execute_reply.started": "2025-02-24T06:57:39.643729Z",
          "shell.execute_reply": "2025-02-24T06:57:40.101818Z"
        },
        "id": "0-noOQttdWhK"
      },
      "outputs": [],
      "execution_count": null
    },
    {
      "cell_type": "code",
      "source": [
        "from sklearn.metrics import confusion_matrix, classification_report\n",
        "from tqdm import tqdm\n",
        "import torch\n",
        "import matplotlib.pyplot as plt\n",
        "import seaborn as sns\n",
        "import numpy as np\n",
        "\n",
        "def plot_confusion_matrix(y_true, y_pred, labels=['Not Readmitted', 'Readmitted']):\n",
        "    cm = confusion_matrix(y_true, y_pred)\n",
        "    cm_normalized = cm.astype('float') / cm.sum(axis=1)[:, np.newaxis]\n",
        "    plt.figure(figsize=(8, 6))\n",
        "    sns.heatmap(cm_normalized, annot=True, fmt='.2f', cmap='Blues', xticklabels=labels, yticklabels=labels)\n",
        "    plt.ylabel('True label')\n",
        "    plt.xlabel('Predicted label')\n",
        "    plt.title('Normalized Confusion Matrix')\n",
        "    plt.show()\n",
        "\n",
        "def train_model(model, train_loader, val_loader, device, num_epochs=1):\n",
        "    criterion = nn.CrossEntropyLoss()\n",
        "    optimizer = torch.optim.AdamW(model.parameters(), lr=2e-5)\n",
        "\n",
        "    best_val_accuracy = 0\n",
        "    model.to(device)  # Move the model to the appropriate device\n",
        "\n",
        "    for epoch in range(num_epochs):\n",
        "        model.train()\n",
        "        total_loss = 0\n",
        "\n",
        "        # Training loop with progress bar\n",
        "        for batch in tqdm(train_loader, desc=f\"Epoch {epoch + 1}/{num_epochs} (Training)\", unit=\"batch\"):\n",
        "            input_ids = batch['input_ids'].to(device)\n",
        "            attention_mask = batch['attention_mask'].to(device)\n",
        "            labels = batch['label'].to(device)\n",
        "\n",
        "            optimizer.zero_grad()\n",
        "            outputs = model(input_ids=input_ids, attention_mask=attention_mask)\n",
        "            loss = criterion(outputs, labels)\n",
        "            loss.backward()\n",
        "            optimizer.step()\n",
        "\n",
        "            total_loss += loss.item()\n",
        "\n",
        "        # Validation loop with progress bar\n",
        "        model.eval()\n",
        "        val_predictions = []\n",
        "        val_labels = []\n",
        "\n",
        "        with torch.no_grad():\n",
        "            for batch in tqdm(val_loader, desc=f\"Epoch {epoch + 1}/{num_epochs} (Validation)\", unit=\"batch\"):\n",
        "                input_ids = batch['input_ids'].to(device)\n",
        "                attention_mask = batch['attention_mask'].to(device)\n",
        "                labels = batch['label'].to(device)\n",
        "\n",
        "                outputs = model(input_ids=input_ids, attention_mask=attention_mask)\n",
        "                predictions = torch.argmax(outputs, dim=1)\n",
        "\n",
        "                val_predictions.extend(predictions.cpu().numpy())\n",
        "                val_labels.extend(labels.cpu().numpy())\n",
        "\n",
        "        # Print epoch results\n",
        "        print(f'\\nEpoch {epoch + 1}/{num_epochs}:')\n",
        "        print(f'Average training loss: {total_loss / len(train_loader):.4f}')\n",
        "\n",
        "        # Calculate and print metrics\n",
        "        val_accuracy = accuracy_score(val_labels, val_predictions)\n",
        "        print(f'\\nValidation Accuracy: {val_accuracy:.4f}')\n",
        "\n",
        "        # Print confusion matrix\n",
        "        print('\\nConfusion Matrix:')\n",
        "        plot_confusion_matrix(val_labels, val_predictions)\n",
        "\n",
        "        # Print detailed classification report\n",
        "        print('\\nClassification Report:')\n",
        "        report = classification_report(val_labels, val_predictions, target_names=['Not Readmitted', 'Readmitted'])\n",
        "        print(report)\n",
        "\n",
        "        # Explain the metrics\n",
        "        print('\\nMetrics Explanation:')\n",
        "        print('- Precision: Of the patients we predicted would be readmitted, what percentage actually were')\n",
        "        print('- Recall: Of the patients who were actually readmitted, what percentage did we identify')\n",
        "        print('- F1-score: Harmonic mean of precision and recall')\n",
        "        print('- Support: Number of occurrences of each class in the validation set')\n",
        "\n",
        "        if val_accuracy > best_val_accuracy:\n",
        "            best_val_accuracy = val_accuracy\n",
        "            torch.save(model.state_dict(), 'best_model.pt')\n",
        "            print(f'\\nSaved new best model with validation accuracy: {val_accuracy:.4f}')\n"
      ],
      "metadata": {
        "trusted": true,
        "execution": {
          "iopub.status.busy": "2025-02-24T06:57:40.103617Z",
          "iopub.execute_input": "2025-02-24T06:57:40.104054Z",
          "iopub.status.idle": "2025-02-24T06:57:40.11394Z",
          "shell.execute_reply.started": "2025-02-24T06:57:40.104031Z",
          "shell.execute_reply": "2025-02-24T06:57:40.113243Z"
        },
        "id": "6q9Oi6V7dWhL"
      },
      "outputs": [],
      "execution_count": null
    },
    {
      "cell_type": "code",
      "source": [
        "def predict(text, model, tokenizer, device):\n",
        "    model.eval()\n",
        "    encoding = tokenizer(\n",
        "        text,\n",
        "        add_special_tokens=True,\n",
        "        max_length=512,\n",
        "        padding='max_length',\n",
        "        truncation=True,\n",
        "        return_tensors='pt'\n",
        "    )\n",
        "\n",
        "    input_ids = encoding['input_ids'].to(device)\n",
        "    attention_mask = encoding['attention_mask'].to(device)\n",
        "\n",
        "    with torch.no_grad():\n",
        "        outputs = model(input_ids=input_ids, attention_mask=attention_mask)\n",
        "        prediction = torch.argmax(outputs, dim=1)\n",
        "\n",
        "    return prediction.item()"
      ],
      "metadata": {
        "trusted": true,
        "execution": {
          "iopub.status.busy": "2025-02-24T06:57:40.114823Z",
          "iopub.execute_input": "2025-02-24T06:57:40.115011Z",
          "iopub.status.idle": "2025-02-24T06:57:40.131778Z",
          "shell.execute_reply.started": "2025-02-24T06:57:40.114995Z",
          "shell.execute_reply": "2025-02-24T06:57:40.131111Z"
        },
        "id": "_Yb-uok_dWhO"
      },
      "outputs": [],
      "execution_count": null
    },
    {
      "cell_type": "code",
      "source": [
        "    device = torch.device('cuda' if torch.cuda.is_available() else 'cpu')\n",
        "\n",
        "    # Initialize tokenizer and model\n",
        "    tokenizer = AutoTokenizer.from_pretrained(\"michiyasunaga/BioLinkBERT-large\")\n",
        "    base_model = AutoModel.from_pretrained(\"michiyasunaga/BioLinkBERT-large\")\n",
        "    model = ReadmissionPredictor(base_model).to(device)"
      ],
      "metadata": {
        "trusted": true,
        "execution": {
          "iopub.status.busy": "2025-02-24T06:57:40.132496Z",
          "iopub.execute_input": "2025-02-24T06:57:40.1328Z",
          "iopub.status.idle": "2025-02-24T06:58:01.345743Z",
          "shell.execute_reply.started": "2025-02-24T06:57:40.132772Z",
          "shell.execute_reply": "2025-02-24T06:58:01.344825Z"
        },
        "id": "Y8SChaHHdWhQ",
        "outputId": "da20b050-1677-4c1a-9354-579508799c59",
        "colab": {
          "referenced_widgets": [
            "86442de1825f42d49eab605d2c403886",
            "7be77b04d4ce4d64bbb680f3af6ff648",
            "50d31d5dcbbd4f4ebe84b5a4a25ec6e4",
            "9d07d415ec9d4588b38fbe1761473a9d",
            "c12d966953c74fa5bd8d9ddf82b7e72f",
            "3ab6a1c975cc4764913747ad5f8cf564"
          ]
        }
      },
      "outputs": [
        {
          "output_type": "display_data",
          "data": {
            "text/plain": "tokenizer_config.json:   0%|          | 0.00/379 [00:00<?, ?B/s]",
            "application/vnd.jupyter.widget-view+json": {
              "version_major": 2,
              "version_minor": 0,
              "model_id": "86442de1825f42d49eab605d2c403886"
            }
          },
          "metadata": {}
        },
        {
          "output_type": "display_data",
          "data": {
            "text/plain": "vocab.txt:   0%|          | 0.00/225k [00:00<?, ?B/s]",
            "application/vnd.jupyter.widget-view+json": {
              "version_major": 2,
              "version_minor": 0,
              "model_id": "7be77b04d4ce4d64bbb680f3af6ff648"
            }
          },
          "metadata": {}
        },
        {
          "output_type": "display_data",
          "data": {
            "text/plain": "tokenizer.json:   0%|          | 0.00/447k [00:00<?, ?B/s]",
            "application/vnd.jupyter.widget-view+json": {
              "version_major": 2,
              "version_minor": 0,
              "model_id": "50d31d5dcbbd4f4ebe84b5a4a25ec6e4"
            }
          },
          "metadata": {}
        },
        {
          "output_type": "display_data",
          "data": {
            "text/plain": "special_tokens_map.json:   0%|          | 0.00/112 [00:00<?, ?B/s]",
            "application/vnd.jupyter.widget-view+json": {
              "version_major": 2,
              "version_minor": 0,
              "model_id": "9d07d415ec9d4588b38fbe1761473a9d"
            }
          },
          "metadata": {}
        },
        {
          "output_type": "display_data",
          "data": {
            "text/plain": "config.json:   0%|          | 0.00/560 [00:00<?, ?B/s]",
            "application/vnd.jupyter.widget-view+json": {
              "version_major": 2,
              "version_minor": 0,
              "model_id": "c12d966953c74fa5bd8d9ddf82b7e72f"
            }
          },
          "metadata": {}
        },
        {
          "output_type": "display_data",
          "data": {
            "text/plain": "pytorch_model.bin:   0%|          | 0.00/1.33G [00:00<?, ?B/s]",
            "application/vnd.jupyter.widget-view+json": {
              "version_major": 2,
              "version_minor": 0,
              "model_id": "3ab6a1c975cc4764913747ad5f8cf564"
            }
          },
          "metadata": {}
        }
      ],
      "execution_count": null
    },
    {
      "cell_type": "code",
      "source": [
        "import pickle\n",
        "import pandas as pd\n",
        "\n",
        "df = pd.read_pickle(\"/kaggle/input/prprpe/Prepared_Data.pkl\")\n",
        "df.head()"
      ],
      "metadata": {
        "trusted": true,
        "execution": {
          "iopub.status.busy": "2025-02-24T06:58:01.348224Z",
          "iopub.execute_input": "2025-02-24T06:58:01.349092Z",
          "iopub.status.idle": "2025-02-24T06:58:07.801357Z",
          "shell.execute_reply.started": "2025-02-24T06:58:01.349066Z",
          "shell.execute_reply": "2025-02-24T06:58:07.800521Z"
        },
        "id": "w9-_x8XMdWhS",
        "outputId": "d89c7d4b-b3f8-4a49-ac94-2a93dc36f122"
      },
      "outputs": [
        {
          "name": "stderr",
          "text": "/usr/local/lib/python3.10/dist-packages/pandas/io/formats/format.py:1458: RuntimeWarning: invalid value encountered in greater\n  has_large_values = (abs_vals > 1e6).any()\n/usr/local/lib/python3.10/dist-packages/pandas/io/formats/format.py:1459: RuntimeWarning: invalid value encountered in less\n  has_small_values = ((abs_vals < 10 ** (-self.digits)) & (abs_vals > 0)).any()\n/usr/local/lib/python3.10/dist-packages/pandas/io/formats/format.py:1459: RuntimeWarning: invalid value encountered in greater\n  has_small_values = ((abs_vals < 10 ** (-self.digits)) & (abs_vals > 0)).any()\n",
          "output_type": "stream"
        },
        {
          "execution_count": 9,
          "output_type": "execute_result",
          "data": {
            "text/plain": "   SUBJECT_ID  HADM_ID           ADMITTIME           DISCHTIME  \\\n1           3   145834 2101-10-20 19:08:00 2101-10-31 13:58:00   \n2           4   185777 2191-03-16 00:28:00 2191-03-23 18:41:00   \n4           6   107064 2175-05-30 07:15:00 2175-06-15 16:00:00   \n7           9   150750 2149-11-09 13:06:00 2149-11-14 10:15:00   \n9          11   194540 2178-04-16 06:18:00 2178-05-11 19:00:00   \n\n            DEATHTIME ADMISSION_TYPE NEXT_ADMITTIME NEXT_ADMISSION_TYPE  \\\n1                 NaT      EMERGENCY            NaT                 NaN   \n2                 NaT      EMERGENCY            NaT                 NaN   \n4                 NaT       ELECTIVE            NaT                 NaN   \n7 2149-11-14 10:15:00      EMERGENCY            NaT                 NaN   \n9                 NaT      EMERGENCY            NaT                 NaN   \n\n   DAYS_NEXT_ADMIT    index           CATEGORY  \\\n1              NaN  48470.0  Discharge summary   \n2              NaN   4782.0  Discharge summary   \n4              NaN  24476.0  Discharge summary   \n7              NaN  57341.0  Discharge summary   \n9              NaN  34829.0  Discharge summary   \n\n                                                TEXT  OUTPUT_LABEL  \n1  Admission Date:  [**2101-10-20**]     Discharg...             0  \n2  Admission Date:  [**2191-3-16**]     Discharge...             0  \n4  Admission Date: [**2175-5-30**]        Dischar...             0  \n7  Name:  [**Known lastname 10050**], [**Known fi...             0  \n9  Admission Date:  [**2178-4-16**]              ...             0  ",
            "text/html": "<div>\n<style scoped>\n    .dataframe tbody tr th:only-of-type {\n        vertical-align: middle;\n    }\n\n    .dataframe tbody tr th {\n        vertical-align: top;\n    }\n\n    .dataframe thead th {\n        text-align: right;\n    }\n</style>\n<table border=\"1\" class=\"dataframe\">\n  <thead>\n    <tr style=\"text-align: right;\">\n      <th></th>\n      <th>SUBJECT_ID</th>\n      <th>HADM_ID</th>\n      <th>ADMITTIME</th>\n      <th>DISCHTIME</th>\n      <th>DEATHTIME</th>\n      <th>ADMISSION_TYPE</th>\n      <th>NEXT_ADMITTIME</th>\n      <th>NEXT_ADMISSION_TYPE</th>\n      <th>DAYS_NEXT_ADMIT</th>\n      <th>index</th>\n      <th>CATEGORY</th>\n      <th>TEXT</th>\n      <th>OUTPUT_LABEL</th>\n    </tr>\n  </thead>\n  <tbody>\n    <tr>\n      <th>1</th>\n      <td>3</td>\n      <td>145834</td>\n      <td>2101-10-20 19:08:00</td>\n      <td>2101-10-31 13:58:00</td>\n      <td>NaT</td>\n      <td>EMERGENCY</td>\n      <td>NaT</td>\n      <td>NaN</td>\n      <td>NaN</td>\n      <td>48470.0</td>\n      <td>Discharge summary</td>\n      <td>Admission Date:  [**2101-10-20**]     Discharg...</td>\n      <td>0</td>\n    </tr>\n    <tr>\n      <th>2</th>\n      <td>4</td>\n      <td>185777</td>\n      <td>2191-03-16 00:28:00</td>\n      <td>2191-03-23 18:41:00</td>\n      <td>NaT</td>\n      <td>EMERGENCY</td>\n      <td>NaT</td>\n      <td>NaN</td>\n      <td>NaN</td>\n      <td>4782.0</td>\n      <td>Discharge summary</td>\n      <td>Admission Date:  [**2191-3-16**]     Discharge...</td>\n      <td>0</td>\n    </tr>\n    <tr>\n      <th>4</th>\n      <td>6</td>\n      <td>107064</td>\n      <td>2175-05-30 07:15:00</td>\n      <td>2175-06-15 16:00:00</td>\n      <td>NaT</td>\n      <td>ELECTIVE</td>\n      <td>NaT</td>\n      <td>NaN</td>\n      <td>NaN</td>\n      <td>24476.0</td>\n      <td>Discharge summary</td>\n      <td>Admission Date: [**2175-5-30**]        Dischar...</td>\n      <td>0</td>\n    </tr>\n    <tr>\n      <th>7</th>\n      <td>9</td>\n      <td>150750</td>\n      <td>2149-11-09 13:06:00</td>\n      <td>2149-11-14 10:15:00</td>\n      <td>2149-11-14 10:15:00</td>\n      <td>EMERGENCY</td>\n      <td>NaT</td>\n      <td>NaN</td>\n      <td>NaN</td>\n      <td>57341.0</td>\n      <td>Discharge summary</td>\n      <td>Name:  [**Known lastname 10050**], [**Known fi...</td>\n      <td>0</td>\n    </tr>\n    <tr>\n      <th>9</th>\n      <td>11</td>\n      <td>194540</td>\n      <td>2178-04-16 06:18:00</td>\n      <td>2178-05-11 19:00:00</td>\n      <td>NaT</td>\n      <td>EMERGENCY</td>\n      <td>NaT</td>\n      <td>NaN</td>\n      <td>NaN</td>\n      <td>34829.0</td>\n      <td>Discharge summary</td>\n      <td>Admission Date:  [**2178-4-16**]              ...</td>\n      <td>0</td>\n    </tr>\n  </tbody>\n</table>\n</div>"
          },
          "metadata": {}
        }
      ],
      "execution_count": null
    },
    {
      "cell_type": "code",
      "source": [
        "df.TEXT = df.TEXT.fillna(' ')\n",
        "df.TEXT = df.TEXT.str.replace('\\n',' ')\n",
        "df.TEXT = df.TEXT.str.replace('\\r',' ')\n",
        "df.TEXT = df.TEXT.str.lower()\n",
        "df.TEXT = df.TEXT.str.replace(r'[^a-zA-Z\\s]', '', regex=True)\n",
        "df.TEXT = df.TEXT.str.replace(r'\\s+', ' ', regex=True)\n",
        "df.TEXT = df.TEXT.str.strip()"
      ],
      "metadata": {
        "trusted": true,
        "execution": {
          "iopub.status.busy": "2025-02-24T06:58:07.80245Z",
          "iopub.execute_input": "2025-02-24T06:58:07.802743Z",
          "iopub.status.idle": "2025-02-24T06:58:42.33181Z",
          "shell.execute_reply.started": "2025-02-24T06:58:07.802714Z",
          "shell.execute_reply": "2025-02-24T06:58:42.331067Z"
        },
        "id": "2ImAdQ8JdWhT"
      },
      "outputs": [],
      "execution_count": null
    },
    {
      "cell_type": "code",
      "source": [
        "df_filtered = df[['SUBJECT_ID', 'HADM_ID', 'TEXT', 'OUTPUT_LABEL']]\n",
        "X = df_filtered['TEXT']\n",
        "y = df_filtered['OUTPUT_LABEL']\n",
        "\n",
        "df_filtered['OUTPUT_LABEL'].value_counts()"
      ],
      "metadata": {
        "trusted": true,
        "execution": {
          "iopub.status.busy": "2025-02-24T06:58:42.332702Z",
          "iopub.execute_input": "2025-02-24T06:58:42.332936Z",
          "iopub.status.idle": "2025-02-24T06:58:42.351391Z",
          "shell.execute_reply.started": "2025-02-24T06:58:42.332916Z",
          "shell.execute_reply": "2025-02-24T06:58:42.350566Z"
        },
        "id": "6ISmFzF5dWhU",
        "outputId": "c1ee7599-68fc-4687-b20a-21d5c4ab06d3"
      },
      "outputs": [
        {
          "execution_count": 11,
          "output_type": "execute_result",
          "data": {
            "text/plain": "OUTPUT_LABEL\n0    48109\n1     3004\nName: count, dtype: int64"
          },
          "metadata": {}
        }
      ],
      "execution_count": null
    },
    {
      "cell_type": "code",
      "source": [
        "X = df_filtered['TEXT'].reset_index(drop=True)\n",
        "y = df_filtered['OUTPUT_LABEL'].reset_index(drop=True)"
      ],
      "metadata": {
        "trusted": true,
        "execution": {
          "iopub.status.busy": "2025-02-24T06:58:42.352141Z",
          "iopub.execute_input": "2025-02-24T06:58:42.352359Z",
          "iopub.status.idle": "2025-02-24T06:58:42.35732Z",
          "shell.execute_reply.started": "2025-02-24T06:58:42.352341Z",
          "shell.execute_reply": "2025-02-24T06:58:42.356673Z"
        },
        "id": "lzs-U7NGdWhV"
      },
      "outputs": [],
      "execution_count": null
    },
    {
      "cell_type": "code",
      "source": [
        "X_train, X_val, y_train, y_val = train_test_split(df_filtered['TEXT'], df_filtered['OUTPUT_LABEL'], test_size=0.2, random_state=42)"
      ],
      "metadata": {
        "trusted": true,
        "execution": {
          "iopub.status.busy": "2025-02-24T06:58:42.35815Z",
          "iopub.execute_input": "2025-02-24T06:58:42.358381Z",
          "iopub.status.idle": "2025-02-24T06:58:42.422581Z",
          "shell.execute_reply.started": "2025-02-24T06:58:42.358363Z",
          "shell.execute_reply": "2025-02-24T06:58:42.422026Z"
        },
        "id": "t9dS4J1mdWhV"
      },
      "outputs": [],
      "execution_count": null
    },
    {
      "cell_type": "code",
      "source": [
        "X_train = X_train.tolist()\n",
        "X_val = X_val.tolist()\n",
        "y_train = y_train.tolist()\n",
        "y_val = y_val.tolist()"
      ],
      "metadata": {
        "trusted": true,
        "execution": {
          "iopub.status.busy": "2025-02-24T06:58:42.423346Z",
          "iopub.execute_input": "2025-02-24T06:58:42.423548Z",
          "iopub.status.idle": "2025-02-24T06:58:42.429916Z",
          "shell.execute_reply.started": "2025-02-24T06:58:42.423531Z",
          "shell.execute_reply": "2025-02-24T06:58:42.429129Z"
        },
        "id": "Hfw1ELg_dWhW"
      },
      "outputs": [],
      "execution_count": null
    },
    {
      "cell_type": "code",
      "source": [
        "print(\"\\nDataset sizes:\")\n",
        "print(f\"Training texts: {len(X_train)}\")\n",
        "print(f\"Training labels: {len(y_train)}\")\n",
        "print(f\"Validation texts: {len(X_val)}\")\n",
        "print(f\"Validation labels: {len(y_val)}\")"
      ],
      "metadata": {
        "trusted": true,
        "execution": {
          "iopub.status.busy": "2025-02-24T06:58:42.430673Z",
          "iopub.execute_input": "2025-02-24T06:58:42.430905Z",
          "iopub.status.idle": "2025-02-24T06:58:42.445845Z",
          "shell.execute_reply.started": "2025-02-24T06:58:42.430887Z",
          "shell.execute_reply": "2025-02-24T06:58:42.445055Z"
        },
        "id": "crl6EPuedWhW",
        "outputId": "86c02ddd-c03d-478e-f14c-ab64208ddc96"
      },
      "outputs": [
        {
          "name": "stdout",
          "text": "\nDataset sizes:\nTraining texts: 40890\nTraining labels: 40890\nValidation texts: 10223\nValidation labels: 10223\n",
          "output_type": "stream"
        }
      ],
      "execution_count": null
    },
    {
      "cell_type": "code",
      "source": [
        "    train_dataset = DischargeNotesDataset(X_train, y_train, tokenizer)\n",
        "    val_dataset = DischargeNotesDataset(X_val, y_val, tokenizer)"
      ],
      "metadata": {
        "trusted": true,
        "execution": {
          "iopub.status.busy": "2025-02-24T06:58:42.446649Z",
          "iopub.execute_input": "2025-02-24T06:58:42.446939Z",
          "iopub.status.idle": "2025-02-24T06:58:42.457607Z",
          "shell.execute_reply.started": "2025-02-24T06:58:42.446912Z",
          "shell.execute_reply": "2025-02-24T06:58:42.457002Z"
        },
        "id": "NsHd2tr7dWhX"
      },
      "outputs": [],
      "execution_count": null
    },
    {
      "cell_type": "code",
      "source": [
        "train_loader = DataLoader(train_dataset, batch_size=8, shuffle=True)\n",
        "val_loader = DataLoader(val_dataset, batch_size=8)"
      ],
      "metadata": {
        "trusted": true,
        "execution": {
          "iopub.status.busy": "2025-02-24T06:58:42.458423Z",
          "iopub.execute_input": "2025-02-24T06:58:42.458737Z",
          "iopub.status.idle": "2025-02-24T06:58:42.473862Z",
          "shell.execute_reply.started": "2025-02-24T06:58:42.458711Z",
          "shell.execute_reply": "2025-02-24T06:58:42.473093Z"
        },
        "id": "X9ZeJeF2dWhX"
      },
      "outputs": [],
      "execution_count": null
    },
    {
      "cell_type": "code",
      "source": [
        "train_model(model, train_loader, val_loader, device)"
      ],
      "metadata": {
        "trusted": true,
        "execution": {
          "iopub.status.busy": "2025-02-24T06:58:42.474709Z",
          "iopub.execute_input": "2025-02-24T06:58:42.474983Z",
          "iopub.status.idle": "2025-02-24T09:15:39.158295Z",
          "shell.execute_reply.started": "2025-02-24T06:58:42.474956Z",
          "shell.execute_reply": "2025-02-24T09:15:39.157403Z"
        },
        "id": "oXotVabYdWhY",
        "outputId": "66286894-1a61-48f4-fcd8-d48fd4b5c741"
      },
      "outputs": [
        {
          "name": "stderr",
          "text": "Epoch 1/1 (Training): 100%|██████████| 5112/5112 [2:06:52<00:00,  1.49s/batch]  \nEpoch 1/1 (Validation): 100%|██████████| 1278/1278 [10:02<00:00,  2.12batch/s]\n",
          "output_type": "stream"
        },
        {
          "name": "stdout",
          "text": "\nEpoch 1/1:\nAverage training loss: 0.2292\n\nValidation Accuracy: 0.9425\n\nConfusion Matrix:\n",
          "output_type": "stream"
        },
        {
          "output_type": "display_data",
          "data": {
            "text/plain": "<Figure size 800x600 with 2 Axes>",
            "image/png": "[encoded data removed]"
          },
          "metadata": {}
        },
        {
          "name": "stdout",
          "text": "\nClassification Report:\n                precision    recall  f1-score   support\n\nNot Readmitted       0.94      1.00      0.97      9635\n    Readmitted       0.00      0.00      0.00       588\n\n      accuracy                           0.94     10223\n     macro avg       0.47      0.50      0.49     10223\n  weighted avg       0.89      0.94      0.91     10223\n\n\nMetrics Explanation:\n- Precision: Of the patients we predicted would be readmitted, what percentage actually were\n- Recall: Of the patients who were actually readmitted, what percentage did we identify\n- F1-score: Harmonic mean of precision and recall\n- Support: Number of occurrences of each class in the validation set\n",
          "output_type": "stream"
        },
        {
          "name": "stderr",
          "text": "/usr/local/lib/python3.10/dist-packages/sklearn/metrics/_classification.py:1344: UndefinedMetricWarning: Precision and F-score are ill-defined and being set to 0.0 in labels with no predicted samples. Use `zero_division` parameter to control this behavior.\n  _warn_prf(average, modifier, msg_start, len(result))\n/usr/local/lib/python3.10/dist-packages/sklearn/metrics/_classification.py:1344: UndefinedMetricWarning: Precision and F-score are ill-defined and being set to 0.0 in labels with no predicted samples. Use `zero_division` parameter to control this behavior.\n  _warn_prf(average, modifier, msg_start, len(result))\n/usr/local/lib/python3.10/dist-packages/sklearn/metrics/_classification.py:1344: UndefinedMetricWarning: Precision and F-score are ill-defined and being set to 0.0 in labels with no predicted samples. Use `zero_division` parameter to control this behavior.\n  _warn_prf(average, modifier, msg_start, len(result))\n",
          "output_type": "stream"
        },
        {
          "name": "stdout",
          "text": "\nSaved new best model with validation accuracy: 0.9425\n",
          "output_type": "stream"
        }
      ],
      "execution_count": null
    },
    {
      "cell_type": "code",
      "source": [
        "type(model)"
      ],
      "metadata": {
        "trusted": true,
        "execution": {
          "iopub.status.busy": "2025-02-24T09:16:40.24025Z",
          "iopub.execute_input": "2025-02-24T09:16:40.240533Z",
          "iopub.status.idle": "2025-02-24T09:16:40.245424Z",
          "shell.execute_reply.started": "2025-02-24T09:16:40.24051Z",
          "shell.execute_reply": "2025-02-24T09:16:40.244774Z"
        },
        "id": "vZMx8SofdWhZ",
        "outputId": "8317f0c5-29ea-42e4-bac5-0b7dbb8a56e2"
      },
      "outputs": [
        {
          "execution_count": 20,
          "output_type": "execute_result",
          "data": {
            "text/plain": "__main__.ReadmissionPredictor"
          },
          "metadata": {}
        }
      ],
      "execution_count": null
    },
    {
      "cell_type": "code",
      "source": [
        "def save_model_info(model, save_dir='saved_model_info'):\n",
        "   \"\"\"\n",
        "   Saves model, tokenizer, and configuration in a directory\n",
        "   Args:\n",
        "       model: The trained model\n",
        "       save_dir: Directory to save all model information\n",
        "   \"\"\"\n",
        "   import os\n",
        "   import json\n",
        "   import torch\n",
        "   from datetime import datetime\n",
        "\n",
        "   # Create directory if it doesn't exist\n",
        "   if not os.path.exists(save_dir):\n",
        "       os.makedirs(save_dir)\n",
        "\n",
        "   # Generate timestamp for this save\n",
        "   timestamp = datetime.now().strftime(\"%Y%m%d_%H%M%S\")\n",
        "\n",
        "   # Save the model state dict\n",
        "   torch.save(model.state_dict(), f'{save_dir}/model_{timestamp}.pt')\n",
        "\n",
        "   # Save the model configuration\n",
        "   config = {\n",
        "       'model_name': \"michiyasunaga/BioLinkBERT-large\",\n",
        "       'max_length': 512,\n",
        "       'num_classes': 2,\n",
        "       'hidden_dropout_prob': 0.1,\n",
        "       'save_timestamp': timestamp,\n",
        "   }\n",
        "\n",
        "   # Save class mapping\n",
        "   class_mapping = {\n",
        "       0: \"Not Readmitted\",\n",
        "       1: \"Readmitted\"\n",
        "   }\n",
        "\n",
        "   # Combine all info\n",
        "   model_info = {\n",
        "       'config': config,\n",
        "       'class_mapping': class_mapping,\n",
        "       'model_path': f'model_{timestamp}.pt'\n",
        "   }\n",
        "\n",
        "   # Save to JSON\n",
        "   with open(f'{save_dir}/model_info_{timestamp}.json', 'w') as f:\n",
        "       json.dump(model_info, f, indent=4)\n",
        "\n",
        "   print(f\"Model saved successfully in {save_dir}\")\n",
        "   print(f\"Model file: model_{timestamp}.pt\")\n",
        "   print(f\"Info file: model_info_{timestamp}.json\")\n",
        "\n",
        "   return timestamp\n",
        "\n",
        "def load_saved_model(timestamp, save_dir='saved_model_info'):\n",
        "   \"\"\"\n",
        "   Loads a saved model and its configuration\n",
        "   Args:\n",
        "       timestamp: Timestamp of the saved model\n",
        "       save_dir: Directory where model is saved\n",
        "   Returns:\n",
        "       model: Loaded model\n",
        "   \"\"\"\n",
        "   import json\n",
        "   import torch\n",
        "   from transformers import AutoModel\n",
        "\n",
        "   # Load model info\n",
        "   with open(f'{save_dir}/model_info_{timestamp}.json', 'r') as f:\n",
        "       model_info = json.load(f)\n",
        "\n",
        "   # Initialize base model and classifier\n",
        "   base_model = AutoModel.from_pretrained(model_info['config']['model_name'])\n",
        "   model = ReadmissionPredictor(base_model)\n",
        "\n",
        "   # Load the saved state dict\n",
        "   model.load_state_dict(torch.load(f'{save_dir}/model_{timestamp}.pt'))\n",
        "\n",
        "   print(\"Model loaded successfully\")\n",
        "   print(f\"Model configuration: {model_info['config']}\")\n",
        "   print(f\"Class mapping: {model_info['class_mapping']}\")\n",
        "\n",
        "   return model"
      ],
      "metadata": {
        "trusted": true,
        "execution": {
          "iopub.status.busy": "2025-02-24T09:19:30.158938Z",
          "iopub.execute_input": "2025-02-24T09:19:30.159252Z",
          "iopub.status.idle": "2025-02-24T09:19:30.166606Z",
          "shell.execute_reply.started": "2025-02-24T09:19:30.159224Z",
          "shell.execute_reply": "2025-02-24T09:19:30.16558Z"
        },
        "id": "SUWC9JNidWhZ"
      },
      "outputs": [],
      "execution_count": null
    },
    {
      "cell_type": "code",
      "source": [
        "save_model_info(model)"
      ],
      "metadata": {
        "trusted": true,
        "execution": {
          "iopub.status.busy": "2025-02-24T09:19:33.162214Z",
          "iopub.execute_input": "2025-02-24T09:19:33.162533Z",
          "iopub.status.idle": "2025-02-24T09:19:34.759012Z",
          "shell.execute_reply.started": "2025-02-24T09:19:33.162497Z",
          "shell.execute_reply": "2025-02-24T09:19:34.758009Z"
        },
        "id": "yGe5GmdtdWha",
        "outputId": "c11ce2cf-4dd5-4af8-ee36-87af89ebd88c"
      },
      "outputs": [
        {
          "name": "stdout",
          "text": "Model saved successfully in saved_model_info\nModel file: model_20250224_091933.pt\nInfo file: model_info_20250224_091933.json\n",
          "output_type": "stream"
        },
        {
          "execution_count": 25,
          "output_type": "execute_result",
          "data": {
            "text/plain": "'20250224_091933'"
          },
          "metadata": {}
        }
      ],
      "execution_count": null
    },
    {
      "cell_type": "markdown",
      "source": [
        "Trying Undersampling\n"
      ],
      "metadata": {
        "id": "PB89OTEndWhc"
      }
    },
    {
      "cell_type": "code",
      "source": [
        "df_filtered = df[['SUBJECT_ID', 'HADM_ID', 'TEXT', 'OUTPUT_LABEL']]\n",
        "X = df_filtered['TEXT']\n",
        "y = df_filtered['OUTPUT_LABEL']\n",
        "\n",
        "df_filtered['OUTPUT_LABEL'].value_counts()"
      ],
      "metadata": {
        "trusted": true,
        "execution": {
          "iopub.status.busy": "2025-02-24T09:39:59.998523Z",
          "iopub.execute_input": "2025-02-24T09:39:59.998881Z",
          "iopub.status.idle": "2025-02-24T09:40:00.014159Z",
          "shell.execute_reply.started": "2025-02-24T09:39:59.998851Z",
          "shell.execute_reply": "2025-02-24T09:40:00.013494Z"
        },
        "id": "DIZno4K7dWhf",
        "outputId": "f427f315-9df0-4dea-c143-f47ab15ae0dd"
      },
      "outputs": [
        {
          "execution_count": 47,
          "output_type": "execute_result",
          "data": {
            "text/plain": "OUTPUT_LABEL\n0    48109\n1     3004\nName: count, dtype: int64"
          },
          "metadata": {}
        }
      ],
      "execution_count": null
    },
    {
      "cell_type": "code",
      "source": [
        "X_train, X_val, y_train, y_val = train_test_split(df_filtered['TEXT'], df_filtered['OUTPUT_LABEL'], test_size=0.2, random_state=42)"
      ],
      "metadata": {
        "trusted": true,
        "execution": {
          "iopub.status.busy": "2025-02-24T09:41:23.915052Z",
          "iopub.execute_input": "2025-02-24T09:41:23.915334Z",
          "iopub.status.idle": "2025-02-24T09:41:23.928273Z",
          "shell.execute_reply.started": "2025-02-24T09:41:23.915313Z",
          "shell.execute_reply": "2025-02-24T09:41:23.927537Z"
        },
        "id": "8G0ux56ldWhg"
      },
      "outputs": [],
      "execution_count": null
    },
    {
      "cell_type": "code",
      "source": [
        "X_train = X_train.tolist()\n",
        "X_val = X_val.tolist()\n",
        "y_train = y_train.tolist()\n",
        "y_val = y_val.tolist()"
      ],
      "metadata": {
        "trusted": true,
        "execution": {
          "iopub.status.busy": "2025-02-24T09:41:36.669461Z",
          "iopub.execute_input": "2025-02-24T09:41:36.669813Z",
          "iopub.status.idle": "2025-02-24T09:41:36.680056Z",
          "shell.execute_reply.started": "2025-02-24T09:41:36.669781Z",
          "shell.execute_reply": "2025-02-24T09:41:36.679074Z"
        },
        "id": "Yim_uNPpdWhh"
      },
      "outputs": [],
      "execution_count": null
    },
    {
      "cell_type": "code",
      "source": [
        "undersampler = RandomUnderSampler(sampling_strategy='auto', random_state=42)"
      ],
      "metadata": {
        "trusted": true,
        "execution": {
          "iopub.status.busy": "2025-02-24T09:41:59.738167Z",
          "iopub.execute_input": "2025-02-24T09:41:59.738489Z",
          "iopub.status.idle": "2025-02-24T09:41:59.742323Z",
          "shell.execute_reply.started": "2025-02-24T09:41:59.738461Z",
          "shell.execute_reply": "2025-02-24T09:41:59.741381Z"
        },
        "id": "NaWlupX0dWhh"
      },
      "outputs": [],
      "execution_count": null
    },
    {
      "cell_type": "code",
      "source": [
        "X_train = np.array(X_train)\n",
        "X_val = np.array(X_val)\n",
        "y_train = np.array(y_train)\n",
        "y_val = np.array(y_val)"
      ],
      "metadata": {
        "trusted": true,
        "execution": {
          "iopub.status.busy": "2025-02-24T09:43:41.209594Z",
          "iopub.execute_input": "2025-02-24T09:43:41.209929Z",
          "iopub.status.idle": "2025-02-24T09:43:49.65114Z",
          "shell.execute_reply.started": "2025-02-24T09:43:41.209903Z",
          "shell.execute_reply": "2025-02-24T09:43:49.650402Z"
        },
        "id": "Xg9nVIbgdWhi"
      },
      "outputs": [],
      "execution_count": null
    },
    {
      "cell_type": "code",
      "source": [
        "X_train_resampled, y_train_resampled = undersampler.fit_resample(X_train.reshape(-1, 1), y_train)"
      ],
      "metadata": {
        "trusted": true,
        "execution": {
          "iopub.status.busy": "2025-02-24T09:44:13.482455Z",
          "iopub.execute_input": "2025-02-24T09:44:13.482791Z",
          "iopub.status.idle": "2025-02-24T09:44:14.369404Z",
          "shell.execute_reply.started": "2025-02-24T09:44:13.482765Z",
          "shell.execute_reply": "2025-02-24T09:44:14.368493Z"
        },
        "id": "2-kY2H6PdWhj"
      },
      "outputs": [],
      "execution_count": null
    },
    {
      "cell_type": "code",
      "source": [
        "print(\"Original class distribution in training data:\")\n",
        "print(pd.Series(y_train).value_counts())\n",
        "\n",
        "print(\"Resampled class distribution in training data:\")\n",
        "print(pd.Series(y_train_resampled).value_counts())"
      ],
      "metadata": {
        "trusted": true,
        "execution": {
          "iopub.status.busy": "2025-02-24T09:44:36.392299Z",
          "iopub.execute_input": "2025-02-24T09:44:36.392594Z",
          "iopub.status.idle": "2025-02-24T09:44:36.401522Z",
          "shell.execute_reply.started": "2025-02-24T09:44:36.392571Z",
          "shell.execute_reply": "2025-02-24T09:44:36.400402Z"
        },
        "id": "CgsfHR4odWhj",
        "outputId": "e54d47db-4673-4b4c-e8af-1cc6a1545783"
      },
      "outputs": [
        {
          "name": "stdout",
          "text": "Original class distribution in training data:\n0    38474\n1     2416\nName: count, dtype: int64\nResampled class distribution in training data:\n0    2416\n1    2416\nName: count, dtype: int64\n",
          "output_type": "stream"
        }
      ],
      "execution_count": null
    },
    {
      "cell_type": "code",
      "source": [
        "    train_dataset = DischargeNotesDataset(X_train_resampled, y_train_resampled, tokenizer)\n",
        "    val_dataset = DischargeNotesDataset(X_val, y_val, tokenizer)"
      ],
      "metadata": {
        "trusted": true,
        "execution": {
          "iopub.status.busy": "2025-02-24T09:45:36.477972Z",
          "iopub.execute_input": "2025-02-24T09:45:36.478259Z",
          "iopub.status.idle": "2025-02-24T09:45:36.481991Z",
          "shell.execute_reply.started": "2025-02-24T09:45:36.478238Z",
          "shell.execute_reply": "2025-02-24T09:45:36.481219Z"
        },
        "id": "w8nwZCGGdWhk"
      },
      "outputs": [],
      "execution_count": null
    },
    {
      "cell_type": "code",
      "source": [
        "train_loader = DataLoader(train_dataset, batch_size=8, shuffle=True)\n",
        "val_loader = DataLoader(val_dataset, batch_size=8)"
      ],
      "metadata": {
        "trusted": true,
        "execution": {
          "iopub.status.busy": "2025-02-24T09:45:52.224873Z",
          "iopub.execute_input": "2025-02-24T09:45:52.225156Z",
          "iopub.status.idle": "2025-02-24T09:45:52.229596Z",
          "shell.execute_reply.started": "2025-02-24T09:45:52.225136Z",
          "shell.execute_reply": "2025-02-24T09:45:52.228734Z"
        },
        "id": "Xt68AyNqdWhk"
      },
      "outputs": [],
      "execution_count": null
    },
    {
      "cell_type": "code",
      "source": [
        "train_model(model, train_loader, val_loader, device)"
      ],
      "metadata": {
        "trusted": true,
        "execution": {
          "iopub.status.busy": "2025-02-24T09:46:02.449738Z",
          "iopub.execute_input": "2025-02-24T09:46:02.450042Z",
          "iopub.status.idle": "2025-02-24T10:11:13.792002Z",
          "shell.execute_reply.started": "2025-02-24T09:46:02.450021Z",
          "shell.execute_reply": "2025-02-24T10:11:13.790975Z"
        },
        "id": "sQ4i-t7_dWhl",
        "outputId": "25b28a11-4a4e-44b7-f358-06dd04b86222"
      },
      "outputs": [
        {
          "name": "stderr",
          "text": "Epoch 1/1 (Training): 100%|██████████| 604/604 [15:04<00:00,  1.50s/batch]\nEpoch 1/1 (Validation): 100%|██████████| 1278/1278 [10:03<00:00,  2.12batch/s]",
          "output_type": "stream"
        },
        {
          "name": "stdout",
          "text": "\nEpoch 1/1:\nAverage training loss: 0.7111\n\nValidation Accuracy: 0.0575\n\nConfusion Matrix:\n",
          "output_type": "stream"
        },
        {
          "name": "stderr",
          "text": "\n",
          "output_type": "stream"
        },
        {
          "output_type": "display_data",
          "data": {
            "text/plain": "<Figure size 800x600 with 2 Axes>",
            "image/png": "[encoded data removed]"
          },
          "metadata": {}
        },
        {
          "name": "stderr",
          "text": "/usr/local/lib/python3.10/dist-packages/sklearn/metrics/_classification.py:1344: UndefinedMetricWarning: Precision and F-score are ill-defined and being set to 0.0 in labels with no predicted samples. Use `zero_division` parameter to control this behavior.\n  _warn_prf(average, modifier, msg_start, len(result))\n/usr/local/lib/python3.10/dist-packages/sklearn/metrics/_classification.py:1344: UndefinedMetricWarning: Precision and F-score are ill-defined and being set to 0.0 in labels with no predicted samples. Use `zero_division` parameter to control this behavior.\n  _warn_prf(average, modifier, msg_start, len(result))\n",
          "output_type": "stream"
        },
        {
          "name": "stdout",
          "text": "\nClassification Report:\n                precision    recall  f1-score   support\n\nNot Readmitted       0.00      0.00      0.00      9635\n    Readmitted       0.06      1.00      0.11       588\n\n      accuracy                           0.06     10223\n     macro avg       0.03      0.50      0.05     10223\n  weighted avg       0.00      0.06      0.01     10223\n\n\nMetrics Explanation:\n- Precision: Of the patients we predicted would be readmitted, what percentage actually were\n- Recall: Of the patients who were actually readmitted, what percentage did we identify\n- F1-score: Harmonic mean of precision and recall\n- Support: Number of occurrences of each class in the validation set\n",
          "output_type": "stream"
        },
        {
          "name": "stderr",
          "text": "/usr/local/lib/python3.10/dist-packages/sklearn/metrics/_classification.py:1344: UndefinedMetricWarning: Precision and F-score are ill-defined and being set to 0.0 in labels with no predicted samples. Use `zero_division` parameter to control this behavior.\n  _warn_prf(average, modifier, msg_start, len(result))\n",
          "output_type": "stream"
        },
        {
          "name": "stdout",
          "text": "\nSaved new best model with validation accuracy: 0.0575\n",
          "output_type": "stream"
        }
      ],
      "execution_count": null
    },
    {
      "cell_type": "markdown",
      "source": [
        "Now trying Oversampling"
      ],
      "metadata": {
        "id": "vX6dcKbRdWhm"
      }
    },
    {
      "cell_type": "code",
      "source": [
        "df_filtered = df[['SUBJECT_ID', 'HADM_ID', 'TEXT', 'OUTPUT_LABEL']]\n",
        "X = df_filtered['TEXT']\n",
        "y = df_filtered['OUTPUT_LABEL']\n",
        "\n",
        "df_filtered['OUTPUT_LABEL'].value_counts()"
      ],
      "metadata": {
        "trusted": true,
        "execution": {
          "iopub.status.busy": "2025-02-24T10:12:16.137852Z",
          "iopub.execute_input": "2025-02-24T10:12:16.138177Z",
          "iopub.status.idle": "2025-02-24T10:12:16.151489Z",
          "shell.execute_reply.started": "2025-02-24T10:12:16.138147Z",
          "shell.execute_reply": "2025-02-24T10:12:16.150847Z"
        },
        "id": "k9V8V5gOdWhm",
        "outputId": "5a8ca1b7-b006-4cd4-a6d8-760d9e8fcfb4"
      },
      "outputs": [
        {
          "execution_count": 61,
          "output_type": "execute_result",
          "data": {
            "text/plain": "OUTPUT_LABEL\n0    48109\n1     3004\nName: count, dtype: int64"
          },
          "metadata": {}
        }
      ],
      "execution_count": null
    },
    {
      "cell_type": "code",
      "source": [
        "X_train, X_val, y_train, y_val = train_test_split(df_filtered['TEXT'], df_filtered['OUTPUT_LABEL'], test_size=0.2, random_state=42)"
      ],
      "metadata": {
        "trusted": true,
        "execution": {
          "iopub.status.busy": "2025-02-24T10:12:29.540636Z",
          "iopub.execute_input": "2025-02-24T10:12:29.540981Z",
          "iopub.status.idle": "2025-02-24T10:12:30.210393Z",
          "shell.execute_reply.started": "2025-02-24T10:12:29.540952Z",
          "shell.execute_reply": "2025-02-24T10:12:30.209733Z"
        },
        "id": "Ze0vSNBBdWhn"
      },
      "outputs": [],
      "execution_count": null
    },
    {
      "cell_type": "code",
      "source": [
        "X_train = X_train.tolist()\n",
        "X_val = X_val.tolist()\n",
        "y_train = y_train.tolist()\n",
        "y_val = y_val.tolist()"
      ],
      "metadata": {
        "trusted": true,
        "execution": {
          "iopub.status.busy": "2025-02-24T10:12:40.448768Z",
          "iopub.execute_input": "2025-02-24T10:12:40.449081Z",
          "iopub.status.idle": "2025-02-24T10:12:40.459224Z",
          "shell.execute_reply.started": "2025-02-24T10:12:40.449056Z",
          "shell.execute_reply": "2025-02-24T10:12:40.458094Z"
        },
        "id": "WjjzDyYNdWhn"
      },
      "outputs": [],
      "execution_count": null
    },
    {
      "cell_type": "code",
      "source": [
        "from imblearn.over_sampling import SMOTE"
      ],
      "metadata": {
        "trusted": true,
        "execution": {
          "iopub.status.busy": "2025-02-24T10:13:44.474185Z",
          "iopub.execute_input": "2025-02-24T10:13:44.47447Z",
          "iopub.status.idle": "2025-02-24T10:13:44.478308Z",
          "shell.execute_reply.started": "2025-02-24T10:13:44.474448Z",
          "shell.execute_reply": "2025-02-24T10:13:44.477289Z"
        },
        "id": "bWs6GYuFdWho"
      },
      "outputs": [],
      "execution_count": null
    },
    {
      "cell_type": "code",
      "source": [
        "smote = SMOTE(sampling_strategy='auto', random_state=42)"
      ],
      "metadata": {
        "trusted": true,
        "execution": {
          "iopub.status.busy": "2025-02-24T10:13:46.692458Z",
          "iopub.execute_input": "2025-02-24T10:13:46.692801Z",
          "iopub.status.idle": "2025-02-24T10:13:46.696738Z",
          "shell.execute_reply.started": "2025-02-24T10:13:46.692771Z",
          "shell.execute_reply": "2025-02-24T10:13:46.695796Z"
        },
        "id": "L8LNlXSgdWh5"
      },
      "outputs": [],
      "execution_count": null
    },
    {
      "cell_type": "code",
      "source": [
        "X_train = np.array(X_train)\n",
        "X_val = np.array(X_val)\n",
        "y_train = np.array(y_train)\n",
        "y_val = np.array(y_val)"
      ],
      "metadata": {
        "trusted": true,
        "execution": {
          "iopub.status.busy": "2025-02-24T10:13:54.713949Z",
          "iopub.execute_input": "2025-02-24T10:13:54.714225Z",
          "iopub.status.idle": "2025-02-24T10:14:01.961091Z",
          "shell.execute_reply.started": "2025-02-24T10:13:54.714206Z",
          "shell.execute_reply": "2025-02-24T10:14:01.960095Z"
        },
        "id": "qih_M1D7dWh5"
      },
      "outputs": [],
      "execution_count": null
    },
    {
      "cell_type": "code",
      "source": [
        "X_train_resampled, y_train_resampled = smote.fit_resample(X_train.reshape(-1, 1), y_train)"
      ],
      "metadata": {
        "trusted": true,
        "execution": {
          "iopub.status.busy": "2025-02-24T10:14:17.021568Z",
          "iopub.execute_input": "2025-02-24T10:14:17.02189Z",
          "iopub.status.idle": "2025-02-24T10:14:17.053881Z",
          "shell.execute_reply.started": "2025-02-24T10:14:17.021863Z",
          "shell.execute_reply": "2025-02-24T10:14:17.052795Z"
        },
        "id": "q9ZDsjuadWh6",
        "outputId": "a4202792-fbc6-45ff-e7c3-5b9dc262f356"
      },
      "outputs": [
        {
          "traceback": [
            "\u001b[0;31m---------------------------------------------------------------------------\u001b[0m",
            "\u001b[0;31mValueError\u001b[0m                                Traceback (most recent call last)",
            "\u001b[0;32m<ipython-input-67-4c1f2c619636>\u001b[0m in \u001b[0;36m<cell line: 1>\u001b[0;34m()\u001b[0m\n\u001b[0;32m----> 1\u001b[0;31m \u001b[0mX_train_resampled\u001b[0m\u001b[0;34m,\u001b[0m \u001b[0my_train_resampled\u001b[0m \u001b[0;34m=\u001b[0m \u001b[0msmote\u001b[0m\u001b[0;34m.\u001b[0m\u001b[0mfit_resample\u001b[0m\u001b[0;34m(\u001b[0m\u001b[0mX_train\u001b[0m\u001b[0;34m.\u001b[0m\u001b[0mreshape\u001b[0m\u001b[0;34m(\u001b[0m\u001b[0;34m-\u001b[0m\u001b[0;36m1\u001b[0m\u001b[0;34m,\u001b[0m \u001b[0;36m1\u001b[0m\u001b[0;34m)\u001b[0m\u001b[0;34m,\u001b[0m \u001b[0my_train\u001b[0m\u001b[0;34m)\u001b[0m\u001b[0;34m\u001b[0m\u001b[0;34m\u001b[0m\u001b[0m\n\u001b[0m",
            "\u001b[0;32m/usr/local/lib/python3.10/dist-packages/imblearn/base.py\u001b[0m in \u001b[0;36mfit_resample\u001b[0;34m(self, X, y)\u001b[0m\n\u001b[1;32m    206\u001b[0m         \"\"\"\n\u001b[1;32m    207\u001b[0m         \u001b[0mself\u001b[0m\u001b[0;34m.\u001b[0m\u001b[0m_validate_params\u001b[0m\u001b[0;34m(\u001b[0m\u001b[0;34m)\u001b[0m\u001b[0;34m\u001b[0m\u001b[0;34m\u001b[0m\u001b[0m\n\u001b[0;32m--> 208\u001b[0;31m         \u001b[0;32mreturn\u001b[0m \u001b[0msuper\u001b[0m\u001b[0;34m(\u001b[0m\u001b[0;34m)\u001b[0m\u001b[0;34m.\u001b[0m\u001b[0mfit_resample\u001b[0m\u001b[0;34m(\u001b[0m\u001b[0mX\u001b[0m\u001b[0;34m,\u001b[0m \u001b[0my\u001b[0m\u001b[0;34m)\u001b[0m\u001b[0;34m\u001b[0m\u001b[0;34m\u001b[0m\u001b[0m\n\u001b[0m\u001b[1;32m    209\u001b[0m \u001b[0;34m\u001b[0m\u001b[0m\n\u001b[1;32m    210\u001b[0m     \u001b[0;32mdef\u001b[0m \u001b[0m_more_tags\u001b[0m\u001b[0;34m(\u001b[0m\u001b[0mself\u001b[0m\u001b[0;34m)\u001b[0m\u001b[0;34m:\u001b[0m\u001b[0;34m\u001b[0m\u001b[0;34m\u001b[0m\u001b[0m\n",
            "\u001b[0;32m/usr/local/lib/python3.10/dist-packages/imblearn/base.py\u001b[0m in \u001b[0;36mfit_resample\u001b[0;34m(self, X, y)\u001b[0m\n\u001b[1;32m    104\u001b[0m         \u001b[0mcheck_classification_targets\u001b[0m\u001b[0;34m(\u001b[0m\u001b[0my\u001b[0m\u001b[0;34m)\u001b[0m\u001b[0;34m\u001b[0m\u001b[0;34m\u001b[0m\u001b[0m\n\u001b[1;32m    105\u001b[0m         \u001b[0marrays_transformer\u001b[0m \u001b[0;34m=\u001b[0m \u001b[0mArraysTransformer\u001b[0m\u001b[0;34m(\u001b[0m\u001b[0mX\u001b[0m\u001b[0;34m,\u001b[0m \u001b[0my\u001b[0m\u001b[0;34m)\u001b[0m\u001b[0;34m\u001b[0m\u001b[0;34m\u001b[0m\u001b[0m\n\u001b[0;32m--> 106\u001b[0;31m         \u001b[0mX\u001b[0m\u001b[0;34m,\u001b[0m \u001b[0my\u001b[0m\u001b[0;34m,\u001b[0m \u001b[0mbinarize_y\u001b[0m \u001b[0;34m=\u001b[0m \u001b[0mself\u001b[0m\u001b[0;34m.\u001b[0m\u001b[0m_check_X_y\u001b[0m\u001b[0;34m(\u001b[0m\u001b[0mX\u001b[0m\u001b[0;34m,\u001b[0m \u001b[0my\u001b[0m\u001b[0;34m)\u001b[0m\u001b[0;34m\u001b[0m\u001b[0;34m\u001b[0m\u001b[0m\n\u001b[0m\u001b[1;32m    107\u001b[0m \u001b[0;34m\u001b[0m\u001b[0m\n\u001b[1;32m    108\u001b[0m         self.sampling_strategy_ = check_sampling_strategy(\n",
            "\u001b[0;32m/usr/local/lib/python3.10/dist-packages/imblearn/base.py\u001b[0m in \u001b[0;36m_check_X_y\u001b[0;34m(self, X, y, accept_sparse)\u001b[0m\n\u001b[1;32m    159\u001b[0m             \u001b[0maccept_sparse\u001b[0m \u001b[0;34m=\u001b[0m \u001b[0;34m[\u001b[0m\u001b[0;34m\"csr\"\u001b[0m\u001b[0;34m,\u001b[0m \u001b[0;34m\"csc\"\u001b[0m\u001b[0;34m]\u001b[0m\u001b[0;34m\u001b[0m\u001b[0;34m\u001b[0m\u001b[0m\n\u001b[1;32m    160\u001b[0m         \u001b[0my\u001b[0m\u001b[0;34m,\u001b[0m \u001b[0mbinarize_y\u001b[0m \u001b[0;34m=\u001b[0m \u001b[0mcheck_target_type\u001b[0m\u001b[0;34m(\u001b[0m\u001b[0my\u001b[0m\u001b[0;34m,\u001b[0m \u001b[0mindicate_one_vs_all\u001b[0m\u001b[0;34m=\u001b[0m\u001b[0;32mTrue\u001b[0m\u001b[0;34m)\u001b[0m\u001b[0;34m\u001b[0m\u001b[0;34m\u001b[0m\u001b[0m\n\u001b[0;32m--> 161\u001b[0;31m         \u001b[0mX\u001b[0m\u001b[0;34m,\u001b[0m \u001b[0my\u001b[0m \u001b[0;34m=\u001b[0m \u001b[0mself\u001b[0m\u001b[0;34m.\u001b[0m\u001b[0m_validate_data\u001b[0m\u001b[0;34m(\u001b[0m\u001b[0mX\u001b[0m\u001b[0;34m,\u001b[0m \u001b[0my\u001b[0m\u001b[0;34m,\u001b[0m \u001b[0mreset\u001b[0m\u001b[0;34m=\u001b[0m\u001b[0;32mTrue\u001b[0m\u001b[0;34m,\u001b[0m \u001b[0maccept_sparse\u001b[0m\u001b[0;34m=\u001b[0m\u001b[0maccept_sparse\u001b[0m\u001b[0;34m)\u001b[0m\u001b[0;34m\u001b[0m\u001b[0;34m\u001b[0m\u001b[0m\n\u001b[0m\u001b[1;32m    162\u001b[0m         \u001b[0;32mreturn\u001b[0m \u001b[0mX\u001b[0m\u001b[0;34m,\u001b[0m \u001b[0my\u001b[0m\u001b[0;34m,\u001b[0m \u001b[0mbinarize_y\u001b[0m\u001b[0;34m\u001b[0m\u001b[0;34m\u001b[0m\u001b[0m\n\u001b[1;32m    163\u001b[0m \u001b[0;34m\u001b[0m\u001b[0m\n",
            "\u001b[0;32m/usr/local/lib/python3.10/dist-packages/sklearn/base.py\u001b[0m in \u001b[0;36m_validate_data\u001b[0;34m(self, X, y, reset, validate_separately, **check_params)\u001b[0m\n\u001b[1;32m    582\u001b[0m                 \u001b[0my\u001b[0m \u001b[0;34m=\u001b[0m \u001b[0mcheck_array\u001b[0m\u001b[0;34m(\u001b[0m\u001b[0my\u001b[0m\u001b[0;34m,\u001b[0m \u001b[0minput_name\u001b[0m\u001b[0;34m=\u001b[0m\u001b[0;34m\"y\"\u001b[0m\u001b[0;34m,\u001b[0m \u001b[0;34m**\u001b[0m\u001b[0mcheck_y_params\u001b[0m\u001b[0;34m)\u001b[0m\u001b[0;34m\u001b[0m\u001b[0;34m\u001b[0m\u001b[0m\n\u001b[1;32m    583\u001b[0m             \u001b[0;32melse\u001b[0m\u001b[0;34m:\u001b[0m\u001b[0;34m\u001b[0m\u001b[0;34m\u001b[0m\u001b[0m\n\u001b[0;32m--> 584\u001b[0;31m                 \u001b[0mX\u001b[0m\u001b[0;34m,\u001b[0m \u001b[0my\u001b[0m \u001b[0;34m=\u001b[0m \u001b[0mcheck_X_y\u001b[0m\u001b[0;34m(\u001b[0m\u001b[0mX\u001b[0m\u001b[0;34m,\u001b[0m \u001b[0my\u001b[0m\u001b[0;34m,\u001b[0m \u001b[0;34m**\u001b[0m\u001b[0mcheck_params\u001b[0m\u001b[0;34m)\u001b[0m\u001b[0;34m\u001b[0m\u001b[0;34m\u001b[0m\u001b[0m\n\u001b[0m\u001b[1;32m    585\u001b[0m             \u001b[0mout\u001b[0m \u001b[0;34m=\u001b[0m \u001b[0mX\u001b[0m\u001b[0;34m,\u001b[0m \u001b[0my\u001b[0m\u001b[0;34m\u001b[0m\u001b[0;34m\u001b[0m\u001b[0m\n\u001b[1;32m    586\u001b[0m \u001b[0;34m\u001b[0m\u001b[0m\n",
            "\u001b[0;32m/usr/local/lib/python3.10/dist-packages/sklearn/utils/validation.py\u001b[0m in \u001b[0;36mcheck_X_y\u001b[0;34m(X, y, accept_sparse, accept_large_sparse, dtype, order, copy, force_all_finite, ensure_2d, allow_nd, multi_output, ensure_min_samples, ensure_min_features, y_numeric, estimator)\u001b[0m\n\u001b[1;32m   1104\u001b[0m         )\n\u001b[1;32m   1105\u001b[0m \u001b[0;34m\u001b[0m\u001b[0m\n\u001b[0;32m-> 1106\u001b[0;31m     X = check_array(\n\u001b[0m\u001b[1;32m   1107\u001b[0m         \u001b[0mX\u001b[0m\u001b[0;34m,\u001b[0m\u001b[0;34m\u001b[0m\u001b[0;34m\u001b[0m\u001b[0m\n\u001b[1;32m   1108\u001b[0m         \u001b[0maccept_sparse\u001b[0m\u001b[0;34m=\u001b[0m\u001b[0maccept_sparse\u001b[0m\u001b[0;34m,\u001b[0m\u001b[0;34m\u001b[0m\u001b[0;34m\u001b[0m\u001b[0m\n",
            "\u001b[0;32m/usr/local/lib/python3.10/dist-packages/sklearn/utils/validation.py\u001b[0m in \u001b[0;36mcheck_array\u001b[0;34m(array, accept_sparse, accept_large_sparse, dtype, order, copy, force_all_finite, ensure_2d, allow_nd, ensure_min_samples, ensure_min_features, estimator, input_name)\u001b[0m\n\u001b[1;32m    908\u001b[0m \u001b[0;34m\u001b[0m\u001b[0m\n\u001b[1;32m    909\u001b[0m         \u001b[0;32mif\u001b[0m \u001b[0mdtype_numeric\u001b[0m \u001b[0;32mand\u001b[0m \u001b[0marray\u001b[0m\u001b[0;34m.\u001b[0m\u001b[0mdtype\u001b[0m\u001b[0;34m.\u001b[0m\u001b[0mkind\u001b[0m \u001b[0;32min\u001b[0m \u001b[0;34m\"USV\"\u001b[0m\u001b[0;34m:\u001b[0m\u001b[0;34m\u001b[0m\u001b[0;34m\u001b[0m\u001b[0m\n\u001b[0;32m--> 910\u001b[0;31m             raise ValueError(\n\u001b[0m\u001b[1;32m    911\u001b[0m                 \u001b[0;34m\"dtype='numeric' is not compatible with arrays of bytes/strings.\"\u001b[0m\u001b[0;34m\u001b[0m\u001b[0;34m\u001b[0m\u001b[0m\n\u001b[1;32m    912\u001b[0m                 \u001b[0;34m\"Convert your data to numeric values explicitly instead.\"\u001b[0m\u001b[0;34m\u001b[0m\u001b[0;34m\u001b[0m\u001b[0m\n",
            "\u001b[0;31mValueError\u001b[0m: dtype='numeric' is not compatible with arrays of bytes/strings.Convert your data to numeric values explicitly instead."
          ],
          "ename": "ValueError",
          "evalue": "dtype='numeric' is not compatible with arrays of bytes/strings.Convert your data to numeric values explicitly instead.",
          "output_type": "error"
        }
      ],
      "execution_count": null
    },
    {
      "cell_type": "code",
      "source": [],
      "metadata": {
        "trusted": true,
        "id": "bYdJy8x5dWh7"
      },
      "outputs": [],
      "execution_count": null
    }
  ]
}